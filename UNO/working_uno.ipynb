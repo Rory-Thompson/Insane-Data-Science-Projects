{
 "cells": [
  {
   "cell_type": "code",
   "execution_count": 1,
   "id": "04d06b7c",
   "metadata": {},
   "outputs": [],
   "source": [
    "\n",
    "## I AM A GENIUS\n",
    "import numpy as np\n",
    "import tensorflow as tf\n",
    "import keras\n",
    "\n",
    "\n",
    "import matplotlib.pyplot as plt\n",
    "import sklearn"
   ]
  },
  {
   "cell_type": "code",
   "execution_count": 2,
   "id": "d2c12d1d",
   "metadata": {},
   "outputs": [],
   "source": [
    "import numpy as np\n",
    "\n",
    "class UnoCard:\n",
    "    def __init__(self, color, number, player, is_wild=False,played = False):\n",
    "        self.color = color\n",
    "        self.number = number\n",
    "        self.player = player\n",
    "        self.is_wild = is_wild\n",
    "        self.played = played\n",
    "\n",
    "class UnoDeck:\n",
    "    def __init__(self, num_players):\n",
    "        self.num_players = num_players\n",
    "        self.deck = []\n",
    "        self.colors = ['red', 'blue', 'green', 'yellow']\n",
    "        self.numbers = [0, 1, 2, 3, 4, 5, 6, 7, 8, 9, 'skip', 'reverse', 'draw two']\n",
    "        self.card_counts = {}\n",
    "        \n",
    "        #self.player_hands = [[] for _ in range(num_players)]\n",
    "        self.current_player = 0\n",
    "        self.player_names = []\n",
    "        ##this should append all of the normal cards\n",
    "        for color in self.colors:\n",
    "            #print(color)\n",
    "            for number in self.numbers:\n",
    "                #print(str(number) + \" \" + color)# checking for the numbers of cards\n",
    "                self.deck.append(UnoCard(color, number, ''))\n",
    "        #print(len(self.deck))\n",
    "        \n",
    "        ## for the second run we do not include the numbers of 0\n",
    "        ##run it twice to do it again\n",
    "        for color in self.colors:\n",
    "            for number in self.numbers[1:]:\n",
    "                self.deck.append(UnoCard(color, number, ''))\n",
    "        \n",
    "                \n",
    "        ##now we need to add the wild cards\n",
    "        ##We will initialize it so color is set to wwild draw four and same for color\n",
    "        for i in range(4):\n",
    "            self.deck.append(UnoCard('wild','wild', '', True))\n",
    "        for i in range(4):\n",
    "            self.deck.append(UnoCard('wild draw 4','wild draw 4', '', False))\n",
    "            \n",
    "        \n",
    "        np.random.shuffle(self.deck)\n",
    "        for i in range(num_players):\n",
    "            player_name = input(f\"Enter the name of player {i+1}: \")\n",
    "            self.player_names.append(player_name)\n",
    "        self.player_hands = {name: [] for name in self.player_names}\n",
    "            \n",
    "    def add_card_to_player(self, player_index):\n",
    "        card = self.deck.pop()\n",
    "        self.player_hands[player_index].append(card)\n",
    "        if card.color not in self.card_counts:\n",
    "            self.card_counts[card.color] = {}\n",
    "        self.card_counts[card.color][card.number] = self.card_counts[card.color].get(card.number, 0) + 1\n",
    "    \n",
    "    def reset_players(self):\n",
    "        for player in list(deck1.player_hands.keys()):\n",
    "            for card in deck1.player_hands[player]:\n",
    "                card.player = ''\n",
    "   \n",
    "\n",
    "    def deal(self, dealt_amount = 7):\n",
    "        self.reset_players()\n",
    "        player_track = 0\n",
    "        for player in self.player_names:\n",
    "            self.player_hands[player] = self.deck[player_track:player_track+dealt_amount]\n",
    "            print(len(self.player_hands[player]))\n",
    "            for i in range(dealt_amount):\n",
    "                \n",
    "                deck1.player_hands[player][i].player=player\n",
    "            player_track+=7\n",
    "            \n",
    "        \n",
    "        # Remove the dealt cards from the deck # I think we dont really need this functionality\n",
    "        #deck = deck[num_cards:]\n",
    "    def print_player_hand(self, player_name):\n",
    "        ##this is for visualisation purposes\n",
    "        if player_name not in self.player_hands:\n",
    "            print(f\"Player {player_name} is not in the game.\")\n",
    "        else:\n",
    "            print(f\"{player_name}'s hand:\")\n",
    "            for card in self.player_hands[player_name]:\n",
    "                print(card.color, card.number)\n",
    "    def show_all_players_cards(self):\n",
    "        #this is for visualisation purposes\n",
    "        for player in self.player_hands:\n",
    "            print(f\"{player}'s hand: {', '.join(str(card.color) + ' ' + str(card.number) for card in self.player_hands[player])}\")\n",
    "    \n",
    "    def __str__(self):\n",
    "        deck_str = 'Deck: '\n",
    "        for card in self.deck:\n",
    "            deck_str += str(card.color) + ' ' + str(card.number) + ', '\n",
    "        deck_str = deck_str[:-2]\n",
    "        deck_str += '\\n'\n",
    "        for player_name in self.player_names:\n",
    "            hand_str = f\"{player_name}'s hand: \"\n",
    "            for card in self.player_hands[player_name]:\n",
    "                hand_str += str(card.color) + ' ' + str(card.number) + ', '\n",
    "            hand_str = hand_str[:-2]\n",
    "            hand_str += '\\n'\n",
    "            deck_str += hand_str\n",
    "        return deck_str"
   ]
  },
  {
   "cell_type": "code",
   "execution_count": 3,
   "id": "99ee38f3",
   "metadata": {},
   "outputs": [
    {
     "name": "stdout",
     "output_type": "stream",
     "text": [
      "Enter the name of player 1: 3\n",
      "Enter the name of player 2: person\n"
     ]
    }
   ],
   "source": [
    "deck1 = UnoDeck(2)"
   ]
  },
  {
   "cell_type": "markdown",
   "id": "4068de00",
   "metadata": {},
   "source": [
    "lst = [1,2,3,4]\n"
   ]
  },
  {
   "cell_type": "code",
   "execution_count": 4,
   "id": "21d5f19b",
   "metadata": {},
   "outputs": [
    {
     "data": {
      "text/plain": [
       "108"
      ]
     },
     "execution_count": 4,
     "metadata": {},
     "output_type": "execute_result"
    }
   ],
   "source": [
    "len(deck1.deck)\n"
   ]
  },
  {
   "cell_type": "code",
   "execution_count": 5,
   "id": "e41a2d6b",
   "metadata": {},
   "outputs": [
    {
     "name": "stdout",
     "output_type": "stream",
     "text": [
      "7\n",
      "7\n"
     ]
    }
   ],
   "source": [
    "deck1.deal()"
   ]
  },
  {
   "cell_type": "code",
   "execution_count": 6,
   "id": "e6ea4149",
   "metadata": {},
   "outputs": [
    {
     "name": "stdout",
     "output_type": "stream",
     "text": [
      "3's hand: yellow 9, green 3, yellow 5, green 0, wild draw 4 wild draw 4, green 9, blue skip\n",
      "person's hand: red 1, green 5, green 1, blue 3, blue 5, blue 7, red 6\n"
     ]
    }
   ],
   "source": [
    "#Insert button will make you delete text as you type\n",
    "#deck1.player_hands[list(deck1.player_hands.keys())[0]] #accessing the first player hands in the dictionary \n",
    "deck1.show_all_players_cards()"
   ]
  },
  {
   "cell_type": "code",
   "execution_count": 7,
   "id": "87586eea",
   "metadata": {},
   "outputs": [
    {
     "name": "stdout",
     "output_type": "stream",
     "text": [
      "Deck: yellow 9, green 3, yellow 5, green 0, wild draw 4 wild draw 4, green 9, blue skip, red 1, green 5, green 1, blue 3, blue 5, blue 7, red 6, red 5, green 4, green 9, red 1, red 0, blue draw two, red 5, red 4, red draw two, green 7, red 6, red 2, blue 6, blue 1, green reverse, green draw two, red 8, green 1, yellow 2, red 2, yellow 0, wild draw 4 wild draw 4, red draw two, blue 8, blue 8, blue reverse, green 8, green 4, green 3, red 3, wild draw 4 wild draw 4, red 9, blue 4, green 5, yellow skip, yellow 1, yellow 7, wild wild, yellow 2, red 9, yellow reverse, wild draw 4 wild draw 4, wild wild, green reverse, blue 0, wild wild, blue 6, yellow draw two, green 2, yellow 5, yellow 9, yellow 3, yellow 1, red 7, red skip, blue 1, blue 9, green 6, red 8, blue reverse, green draw two, green 7, red reverse, yellow 3, yellow 4, red 4, yellow 8, yellow 6, green skip, yellow reverse, wild wild, blue 3, blue 7, green 6, blue 5, blue skip, blue 4, yellow 4, yellow skip, red 7, blue draw two, yellow 8, blue 2, yellow draw two, green 8, red 3, red skip, green 2, blue 9, yellow 7, red reverse, blue 2, yellow 6, green skip\n",
      "3's hand: yellow 9, green 3, yellow 5, green 0, wild draw 4 wild draw 4, green 9, blue skip\n",
      "person's hand: red 1, green 5, green 1, blue 3, blue 5, blue 7, red 6\n",
      "\n"
     ]
    }
   ],
   "source": [
    "print(str(deck1))"
   ]
  },
  {
   "cell_type": "code",
   "execution_count": 8,
   "id": "28b855bd",
   "metadata": {},
   "outputs": [],
   "source": [
    "class UnoCard:\n",
    "    def __init__(self, color, number, player=None, deck=None,is_wild=False,played = False):\n",
    "        self.color = color\n",
    "        self.number = number\n",
    "        self.player = player\n",
    "        self.is_wild = is_wild\n",
    "        self.played = played\n",
    "        self.deck= deck\n",
    "class player:\n",
    "    def __init__(self,name,deck = None):\n",
    "        self.name = name\n",
    "        self.deck = deck\n",
    "        \n",
    "        \n",
    "        ##add a method that has prints the hand of a player by iterating the whole deck to find it\n",
    "        ##init will have the \n",
    "    def show_hand(self):\n",
    "        \n",
    "        #iterate through the deck\n",
    "        for i in range(len(self.deck.deck)):\n",
    "            print(str(self.deck.deck[i]))\n",
    "            print(i)\n",
    "            if self.deck.deck[i].player.name == self.name:\n",
    "                print(self.deck.deck[i].color + \" \" + str(self.deck.deck[i].number))\n",
    "        \n",
    "        ##add a method that places a card \n",
    "        \n",
    "        ## add a method that draws a card\n",
    "        ##this should only effect the Uno cards themselves by changing its values\n",
    "        \n",
    "        ## add a method that creates a matrix then stores this matrix of the current cards the player has\n",
    "        \n",
    "        \n",
    "        ## add a method that calculates the given probability of any given card,\n",
    "        ## say the probability given we know what cards have been placed and what cards I have what is the highest probability\n",
    "        ##card any given player has.\n",
    "        \n",
    "        \n",
    "        \n",
    "    \n",
    "        \n",
    "        \n",
    "    \n",
    "    \n",
    "    \n",
    "        \n",
    "class UnoDeck:\n",
    "    def __init__(self, num_players):\n",
    "        self.num_players = num_players\n",
    "        \n",
    "        #deck = list object\n",
    "        self.deck = []\n",
    "        self.colors = ['red', 'blue', 'green', 'yellow']\n",
    "        self.numbers = [0, 1, 2, 3, 4, 5, 6, 7, 8, 9, 'skip', 'reverse', 'draw two']\n",
    "        self.card_counts = {}\n",
    "        self.players = []\n",
    "        \n",
    "        #self.player_hands = [[] for _ in range(num_players)]\n",
    "        self.current_player = 0\n",
    "        self.player_names = []\n",
    "        ##this should append all of the normal cards\n",
    "        for color in self.colors:\n",
    "            #print(color)\n",
    "            for number in self.numbers:\n",
    "                #print(str(number) + \" \" + color)# checking for the numbers of cards\n",
    "                self.deck.append(UnoCard(color, number, '', self))\n",
    "        #print(len(self.deck))\n",
    "        \n",
    "        ## for the second run we do not include the numbers of 0\n",
    "        ##run it twice to do it again\n",
    "        for color in self.colors:\n",
    "            for number in self.numbers[1:]:\n",
    "                self.deck.append(UnoCard(color, number, '',self))\n",
    "        \n",
    "                \n",
    "        ##now we need to add the wild cards\n",
    "        ##We will initialize it so color is set to wwild draw four and same for color\n",
    "        for i in range(4):\n",
    "            self.deck.append(UnoCard('wild','wild', '',self, True))\n",
    "        for i in range(4):\n",
    "            self.deck.append(UnoCard('wild draw 4','wild draw 4', self, '', True))\n",
    "            \n",
    "        \n",
    "        np.random.shuffle(self.deck)\n",
    "        for i in range(num_players):\n",
    "            player_name = input(f\"Enter the name of player {i+1}: \")\n",
    "            self.player_names.append(player_name)\n",
    "            self.players.append(player(player_name,self))\n",
    "            \n",
    "        ##player hands will only be used to initialise the values is deal, even then it could probably be removed \n",
    "        ##otherwise methods will be used to find the cards a player has by iterating the deck\n",
    "        self.player_hands = {name: [] for name in self.player_names}\n",
    "    \n",
    "    def reset_players(self):\n",
    "        for player in list(deck1.player_hands.keys()):\n",
    "            for card in deck1.player_hands[player]:\n",
    "                card.player = ''\n",
    "   \n",
    "\n",
    "    def deal(self, dealt_amount = 7):\n",
    "        self.reset_players()\n",
    "        player_track = 0\n",
    "        #iterates over the players\n",
    "        for player in self.players:\n",
    "            self.player_hands[player.name] = self.deck[player_track:player_track+dealt_amount]\n",
    "            print(len(self.player_hands[player.name]))\n",
    "            for i in range(dealt_amount):\n",
    "                \n",
    "                ##this makes sure that each card \n",
    "                ##for the card this will update the player\n",
    "                ##probably not the cleanest code \n",
    "                deck1.player_hands[player.name][i].player=player\n",
    "            player_track+=7\n",
    "            \n",
    "        \n",
    "        # Remove the dealt cards from the deck # I think we dont really need this functionality\n",
    "        #deck = deck[num_cards:]\n",
    "    def print_player_hand(self, player_name):\n",
    "        ##this is for visualisation purposes\n",
    "        if player_name not in self.player_hands:\n",
    "            print(f\"Player {player_name} is not in the game.\")\n",
    "        else:\n",
    "            print(f\"{player_name}'s hand:\")\n",
    "            for card in self.player_hands[player_name]:\n",
    "                print(card.color, card.number)\n",
    "    def show_all_players_cards(self):\n",
    "        #this is for visualisation purposes\n",
    "        for player in self.player_hands:\n",
    "            print(f\"{player}'s hand: {', '.join(str(card.color) + ' ' + str(card.number) for card in self.player_hands[player])}\")\n",
    "    \n",
    "    def __str__(self):\n",
    "        deck_str = 'Deck: '\n",
    "        for card in self.deck:\n",
    "            deck_str += str(card.color) + ' ' + str(card.number) + ', '\n",
    "        deck_str = deck_str[:-2]\n",
    "        deck_str += '\\n'\n",
    "        for player_name in self.player_names:\n",
    "            hand_str = f\"{player_name}'s hand: \"\n",
    "            for card in self.player_hands[player_name]:\n",
    "                hand_str += str(card.color) + ' ' + str(card.number) + ', '\n",
    "            hand_str = hand_str[:-2]\n",
    "            hand_str += '\\n'\n",
    "            deck_str += hand_str\n",
    "        return deck_str"
   ]
  },
  {
   "cell_type": "code",
   "execution_count": 9,
   "id": "de29fee3",
   "metadata": {},
   "outputs": [
    {
     "name": "stdout",
     "output_type": "stream",
     "text": [
      "Enter the name of player 1: Rory\n",
      "Enter the name of player 2: Isaac\n",
      "7\n",
      "7\n"
     ]
    }
   ],
   "source": [
    "deck1 = UnoDeck(2)\n",
    "deck1.deal()"
   ]
  },
  {
   "cell_type": "code",
   "execution_count": 10,
   "id": "6b0b254e",
   "metadata": {},
   "outputs": [
    {
     "name": "stdout",
     "output_type": "stream",
     "text": [
      "<__main__.UnoCard object at 0x000001DFDEE32770>\n",
      "0\n",
      "red 2\n",
      "<__main__.UnoCard object at 0x000001DFDEE32620>\n",
      "1\n",
      "red 5\n",
      "<__main__.UnoCard object at 0x000001DFDEE33640>\n",
      "2\n",
      "yellow 1\n",
      "<__main__.UnoCard object at 0x000001DFDEE32DD0>\n",
      "3\n",
      "yellow 3\n",
      "<__main__.UnoCard object at 0x000001DFDEE33A60>\n",
      "4\n",
      "yellow 9\n",
      "<__main__.UnoCard object at 0x000001DFDEE33B20>\n",
      "5\n",
      "blue skip\n",
      "<__main__.UnoCard object at 0x000001DFDEE32590>\n",
      "6\n",
      "green reverse\n",
      "<__main__.UnoCard object at 0x000001DFDEE31840>\n",
      "7\n",
      "<__main__.UnoCard object at 0x000001DFDEE31CF0>\n",
      "8\n",
      "<__main__.UnoCard object at 0x000001DFDEE332E0>\n",
      "9\n",
      "<__main__.UnoCard object at 0x000001DFDEE32860>\n",
      "10\n",
      "<__main__.UnoCard object at 0x000001DFDEE32710>\n",
      "11\n",
      "<__main__.UnoCard object at 0x000001DFDEE33BB0>\n",
      "12\n",
      "<__main__.UnoCard object at 0x000001DFDEE334C0>\n",
      "13\n",
      "<__main__.UnoCard object at 0x000001DFDEE326E0>\n",
      "14\n"
     ]
    },
    {
     "ename": "AttributeError",
     "evalue": "'str' object has no attribute 'name'",
     "output_type": "error",
     "traceback": [
      "\u001b[1;31m---------------------------------------------------------------------------\u001b[0m",
      "\u001b[1;31mAttributeError\u001b[0m                            Traceback (most recent call last)",
      "Cell \u001b[1;32mIn[10], line 1\u001b[0m\n\u001b[1;32m----> 1\u001b[0m \u001b[43mdeck1\u001b[49m\u001b[38;5;241;43m.\u001b[39;49m\u001b[43mplayers\u001b[49m\u001b[43m[\u001b[49m\u001b[38;5;241;43m0\u001b[39;49m\u001b[43m]\u001b[49m\u001b[38;5;241;43m.\u001b[39;49m\u001b[43mshow_hand\u001b[49m\u001b[43m(\u001b[49m\u001b[43m)\u001b[49m\n",
      "Cell \u001b[1;32mIn[8], line 23\u001b[0m, in \u001b[0;36mplayer.show_hand\u001b[1;34m(self)\u001b[0m\n\u001b[0;32m     21\u001b[0m \u001b[38;5;28mprint\u001b[39m(\u001b[38;5;28mstr\u001b[39m(\u001b[38;5;28mself\u001b[39m\u001b[38;5;241m.\u001b[39mdeck\u001b[38;5;241m.\u001b[39mdeck[i]))\n\u001b[0;32m     22\u001b[0m \u001b[38;5;28mprint\u001b[39m(i)\n\u001b[1;32m---> 23\u001b[0m \u001b[38;5;28;01mif\u001b[39;00m \u001b[38;5;28;43mself\u001b[39;49m\u001b[38;5;241;43m.\u001b[39;49m\u001b[43mdeck\u001b[49m\u001b[38;5;241;43m.\u001b[39;49m\u001b[43mdeck\u001b[49m\u001b[43m[\u001b[49m\u001b[43mi\u001b[49m\u001b[43m]\u001b[49m\u001b[38;5;241;43m.\u001b[39;49m\u001b[43mplayer\u001b[49m\u001b[38;5;241;43m.\u001b[39;49m\u001b[43mname\u001b[49m \u001b[38;5;241m==\u001b[39m \u001b[38;5;28mself\u001b[39m\u001b[38;5;241m.\u001b[39mname:\n\u001b[0;32m     24\u001b[0m     \u001b[38;5;28mprint\u001b[39m(\u001b[38;5;28mself\u001b[39m\u001b[38;5;241m.\u001b[39mdeck\u001b[38;5;241m.\u001b[39mdeck[i]\u001b[38;5;241m.\u001b[39mcolor \u001b[38;5;241m+\u001b[39m \u001b[38;5;124m\"\u001b[39m\u001b[38;5;124m \u001b[39m\u001b[38;5;124m\"\u001b[39m \u001b[38;5;241m+\u001b[39m \u001b[38;5;28mstr\u001b[39m(\u001b[38;5;28mself\u001b[39m\u001b[38;5;241m.\u001b[39mdeck\u001b[38;5;241m.\u001b[39mdeck[i]\u001b[38;5;241m.\u001b[39mnumber))\n",
      "\u001b[1;31mAttributeError\u001b[0m: 'str' object has no attribute 'name'"
     ]
    }
   ],
   "source": [
    "deck1.players[0].show_hand()"
   ]
  },
  {
   "cell_type": "code",
   "execution_count": null,
   "id": "4b1366bc",
   "metadata": {},
   "outputs": [],
   "source": [
    "deck1.players[0].name"
   ]
  },
  {
   "cell_type": "code",
   "execution_count": 11,
   "id": "136f8c6f",
   "metadata": {},
   "outputs": [
    {
     "data": {
      "text/plain": [
       "''"
      ]
     },
     "execution_count": 11,
     "metadata": {},
     "output_type": "execute_result"
    }
   ],
   "source": [
    "deck1.deck[14].player"
   ]
  },
  {
   "cell_type": "code",
   "execution_count": 12,
   "id": "846745db",
   "metadata": {},
   "outputs": [
    {
     "data": {
      "text/plain": [
       "[<__main__.UnoCard at 0x1dfdee32770>,\n",
       " <__main__.UnoCard at 0x1dfdee32620>,\n",
       " <__main__.UnoCard at 0x1dfdee33640>,\n",
       " <__main__.UnoCard at 0x1dfdee32dd0>,\n",
       " <__main__.UnoCard at 0x1dfdee33a60>,\n",
       " <__main__.UnoCard at 0x1dfdee33b20>,\n",
       " <__main__.UnoCard at 0x1dfdee32590>,\n",
       " <__main__.UnoCard at 0x1dfdee31840>,\n",
       " <__main__.UnoCard at 0x1dfdee31cf0>,\n",
       " <__main__.UnoCard at 0x1dfdee332e0>,\n",
       " <__main__.UnoCard at 0x1dfdee32860>,\n",
       " <__main__.UnoCard at 0x1dfdee32710>,\n",
       " <__main__.UnoCard at 0x1dfdee33bb0>,\n",
       " <__main__.UnoCard at 0x1dfdee334c0>,\n",
       " <__main__.UnoCard at 0x1dfdee326e0>,\n",
       " <__main__.UnoCard at 0x1dfdee31e40>,\n",
       " <__main__.UnoCard at 0x1dfdee33b50>,\n",
       " <__main__.UnoCard at 0x1dfdee32aa0>,\n",
       " <__main__.UnoCard at 0x1dfdee328f0>,\n",
       " <__main__.UnoCard at 0x1dfdee31e70>,\n",
       " <__main__.UnoCard at 0x1dfdee32ad0>,\n",
       " <__main__.UnoCard at 0x1dfdee327a0>,\n",
       " <__main__.UnoCard at 0x1dfdee31c00>,\n",
       " <__main__.UnoCard at 0x1dfdee31bd0>,\n",
       " <__main__.UnoCard at 0x1dfdee32d10>,\n",
       " <__main__.UnoCard at 0x1dfdee32c50>,\n",
       " <__main__.UnoCard at 0x1dfdee33730>,\n",
       " <__main__.UnoCard at 0x1dfdee31d80>,\n",
       " <__main__.UnoCard at 0x1dfdee316c0>,\n",
       " <__main__.UnoCard at 0x1dfdee32bf0>,\n",
       " <__main__.UnoCard at 0x1dfdee31a80>,\n",
       " <__main__.UnoCard at 0x1dfdee32f50>,\n",
       " <__main__.UnoCard at 0x1dfdee33280>,\n",
       " <__main__.UnoCard at 0x1dfdee32fe0>,\n",
       " <__main__.UnoCard at 0x1dfdee33670>,\n",
       " <__main__.UnoCard at 0x1dfdee33160>,\n",
       " <__main__.UnoCard at 0x1dfdee31c30>,\n",
       " <__main__.UnoCard at 0x1dfdee331c0>,\n",
       " <__main__.UnoCard at 0x1dfdee335b0>,\n",
       " <__main__.UnoCard at 0x1dfdee32d70>,\n",
       " <__main__.UnoCard at 0x1dfdee336d0>,\n",
       " <__main__.UnoCard at 0x1dfdee33040>,\n",
       " <__main__.UnoCard at 0x1dfdee33550>,\n",
       " <__main__.UnoCard at 0x1dfdee33490>,\n",
       " <__main__.UnoCard at 0x1dfdee33010>,\n",
       " <__main__.UnoCard at 0x1dfdee32bc0>,\n",
       " <__main__.UnoCard at 0x1dfdee33220>,\n",
       " <__main__.UnoCard at 0x1dfdee32980>,\n",
       " <__main__.UnoCard at 0x1dfdee31d20>,\n",
       " <__main__.UnoCard at 0x1dfdee335e0>,\n",
       " <__main__.UnoCard at 0x1dfdee33070>,\n",
       " <__main__.UnoCard at 0x1dfdee31d50>,\n",
       " <__main__.UnoCard at 0x1dfdee32a40>,\n",
       " <__main__.UnoCard at 0x1dfdee332b0>,\n",
       " <__main__.UnoCard at 0x1dfdee31e10>,\n",
       " <__main__.UnoCard at 0x1dfdee31c60>,\n",
       " <__main__.UnoCard at 0x1dfdee32800>,\n",
       " <__main__.UnoCard at 0x1dfdee329b0>,\n",
       " <__main__.UnoCard at 0x1dfdee32da0>,\n",
       " <__main__.UnoCard at 0x1dfdee33af0>,\n",
       " <__main__.UnoCard at 0x1dfdee33b80>,\n",
       " <__main__.UnoCard at 0x1dfdee32ef0>,\n",
       " <__main__.UnoCard at 0x1dfdee32c20>,\n",
       " <__main__.UnoCard at 0x1dfdee31de0>,\n",
       " <__main__.UnoCard at 0x1dfdee32ce0>,\n",
       " <__main__.UnoCard at 0x1dfdee32a10>,\n",
       " <__main__.UnoCard at 0x1dfdee31930>,\n",
       " <__main__.UnoCard at 0x1dfdee31c90>,\n",
       " <__main__.UnoCard at 0x1dfdee31ba0>,\n",
       " <__main__.UnoCard at 0x1dfdee31990>,\n",
       " <__main__.UnoCard at 0x1dfdee327d0>,\n",
       " <__main__.UnoCard at 0x1dfdee32d40>,\n",
       " <__main__.UnoCard at 0x1dfdee33610>,\n",
       " <__main__.UnoCard at 0x1dfdee32740>,\n",
       " <__main__.UnoCard at 0x1dfdee32a70>,\n",
       " <__main__.UnoCard at 0x1dfdee33130>,\n",
       " <__main__.UnoCard at 0x1dfdee32c80>,\n",
       " <__main__.UnoCard at 0x1dfdee336a0>,\n",
       " <__main__.UnoCard at 0x1dfdee32680>,\n",
       " <__main__.UnoCard at 0x1dfdee33340>,\n",
       " <__main__.UnoCard at 0x1dfdee31ab0>,\n",
       " <__main__.UnoCard at 0x1dfdee32cb0>,\n",
       " <__main__.UnoCard at 0x1dfdee32b60>,\n",
       " <__main__.UnoCard at 0x1dfdee32fb0>,\n",
       " <__main__.UnoCard at 0x1dfdee30be0>,\n",
       " <__main__.UnoCard at 0x1dfdee33250>,\n",
       " <__main__.UnoCard at 0x1dfdee32f80>,\n",
       " <__main__.UnoCard at 0x1dfdee325c0>,\n",
       " <__main__.UnoCard at 0x1dfdee31810>,\n",
       " <__main__.UnoCard at 0x1dfdee329e0>,\n",
       " <__main__.UnoCard at 0x1dfdee33ac0>,\n",
       " <__main__.UnoCard at 0x1dfdee32b30>,\n",
       " <__main__.UnoCard at 0x1dfdee32830>,\n",
       " <__main__.UnoCard at 0x1dfdee33a90>,\n",
       " <__main__.UnoCard at 0x1dfdee32f20>,\n",
       " <__main__.UnoCard at 0x1dfdee331f0>,\n",
       " <__main__.UnoCard at 0x1dfdee31cc0>,\n",
       " <__main__.UnoCard at 0x1dfdee33700>,\n",
       " <__main__.UnoCard at 0x1dfdee32950>,\n",
       " <__main__.UnoCard at 0x1dfdee32b90>,\n",
       " <__main__.UnoCard at 0x1dfdee33310>,\n",
       " <__main__.UnoCard at 0x1dfdee32e00>,\n",
       " <__main__.UnoCard at 0x1dfdee328c0>,\n",
       " <__main__.UnoCard at 0x1dfdee33190>,\n",
       " <__main__.UnoCard at 0x1dfdee31db0>,\n",
       " <__main__.UnoCard at 0x1dfdee32920>,\n",
       " <__main__.UnoCard at 0x1dfdee32890>,\n",
       " <__main__.UnoCard at 0x1dfdee32b00>]"
      ]
     },
     "execution_count": 12,
     "metadata": {},
     "output_type": "execute_result"
    }
   ],
   "source": [
    "deck1.deck"
   ]
  },
  {
   "cell_type": "code",
   "execution_count": 13,
   "id": "c7f57e6b",
   "metadata": {},
   "outputs": [],
   "source": [
    "### MY OWN VERSION\n",
    "\n",
    "##MAKE AN OVERALL FUNCTION THAT CONVERTS A LIST OF UNO CARDS INTO A READABLE STRING\n",
    "\n",
    "def card_print(cards):\n",
    "    for i in range(len(cards)):\n",
    "        if type(cards[i]) != str:\n",
    "            print(\"move \" + str(i)+\": \" + cards[i].color+ \" \"+ str(cards[i].number))\n",
    "        else:\n",
    "            print(\"move \" + str(i)+\": \" + cards[i])\n",
    "        \n",
    "\n",
    "##MAKE AN OVERALL FUNCTION THAT CONVERTS A LIST OF UNO CARDS INTO THE REQUIRED MATRIX\n",
    "\n",
    "##REMEMBER POP REMOVES THE TOP CARD AT THE END OF THE LIST AT [-1]\n",
    "\n",
    "class UnoCard:\n",
    "    def __init__(self, color, number, deck=None,is_wild=False):\n",
    "        self.color = color\n",
    "        self.number = number\n",
    "        self.is_wild = is_wild\n",
    "        self.deck= deck\n",
    "\n",
    "        \n",
    "class UnoDeck:\n",
    "    def __init__(self,game):\n",
    "        self.game = game\n",
    "        self.players = self.game.player_names###most likely self.game.player_names\n",
    "        \n",
    "        hands = {}\n",
    "        ##initalize uno deck\n",
    "        self.deck = []\n",
    "        self.colors = ['red', 'blue', 'green', 'yellow']\n",
    "        self.numbers = [0, 1, 2, 3, 4, 5, 6, 7, 8, 9, 'skip', 'reverse', 'draw 2']\n",
    "        self.card_counts = {}\n",
    "        \n",
    "        for color in self.colors:\n",
    "            #print(color)\n",
    "            for number in self.numbers:\n",
    "                #print(str(number) + \" \" + color)# checking for the numbers of cards\n",
    "                self.deck.append(UnoCard(color, number, self))\n",
    "        #print(len(self.deck))\n",
    "        \n",
    "        ## for the second run we do not include the numbers of 0\n",
    "        ##run it twice to do it again\n",
    "        for color in self.colors:\n",
    "            for number in self.numbers[1:]:\n",
    "                self.deck.append(UnoCard(color, number,self))\n",
    "        \n",
    "                \n",
    "        ##now we need to add the wild cards\n",
    "        ##We will initialize it so color is set to wwild draw four and same for color\n",
    "        for i in range(4):\n",
    "            self.deck.append(UnoCard('wild','wild',self, True))\n",
    "        for i in range(4):\n",
    "            self.deck.append(UnoCard('wild draw 4','wild draw 4', self, True))\n",
    "            \n",
    "        \n",
    "        np.random.shuffle(self.deck)\n",
    "        self.hands = {}\n",
    "        self.hands[\"in pile\"] = self.deck\n",
    "        self.hands[\"played\"] = []\n",
    "        for i in range(len(self.players)):\n",
    "            self.hands[self.players[i]] = []##instantiate each dictionary.\n",
    "            \n",
    "        ##we hnow have every player in the game and every card created\n",
    "        \n",
    "    def pick_up(self,name_from, name_to):\n",
    "        removed = self.hands[name_from].pop()\n",
    "        self.hands[name_to].append(removed)\n",
    "            \n",
    "            \n",
    "    def move_card(self,name_from, name_to, card):\n",
    "            ##moves a card from one player to another\n",
    "        self.hands[name_from].remove(card)\n",
    "            #add to player\n",
    "        self.hands[name_to].append(card)\n",
    "        \n",
    "class Player:\n",
    "    def __init__(self, name, game):\n",
    "        \n",
    "        self.name = name\n",
    "        self.game = game\n",
    "        self.deck = self.game.deck\n",
    "    \n",
    "\n",
    "    def current_moves(self, top):\n",
    "        current_moves =[]\n",
    "            ##THIS FUNCTION ASSUMES THEY CAN PUT DOWN and dont have to pick up \n",
    "        current_cards = self.deck.hands[self.name]\n",
    "        for i in range(len(current_cards)):\n",
    "            if current_cards[i].color == top.color:\n",
    "                current_moves.append(current_cards[i])\n",
    "            elif current_cards[i].number == top.number:\n",
    "                current_moves.append(current_cards[i])\n",
    "            elif current_cards[i].is_wild:\n",
    "                current_moves.append(current_cards[i])\n",
    "        return current_moves\n",
    "                \n",
    "            \n",
    "            \n",
    "    def have_plus_2(self):\n",
    "        ##returns the list of cards that are plus 2\n",
    "        plus_2 = []\n",
    "        current_cards = self.deck.hands[self.name]\n",
    "        for i in range(len(current_cards)):\n",
    "            if current_cards[i].color == 'draw 2':\n",
    "                plus_2.append(current_cards[i])\n",
    "        return plus_2\n",
    "    \n",
    "    def have_plus_4(self):\n",
    "        ##return the list of cards that are plus 4\n",
    "        plus_4 = []\n",
    "        current_cards = self.deck.hands[self.name]\n",
    "        for i in range(len(current_cards)):\n",
    "            if current_cards[i].color == 'wild draw 4':\n",
    "                plus_4.append(current_cards[i])\n",
    "        return plus_4\n",
    "    \n",
    "                \n",
    "            \n",
    "            \n",
    "        #def matrix_converter(self):\n",
    "            ##calls current moves and converts to a matrix, of all cards on x axis, 1 means playable, 0 means not playable\n",
    "            ##the next column on the x axis will be the probabilities any given card that is not mine someone has.\n",
    "            ##This will also include the option to pick up most likely\n",
    "            \n",
    "        \n",
    "\n",
    "class UnoGame:\n",
    "    def __init__(self, num_players):\n",
    "        self.num_players = num_players\n",
    "        self.game_in_play = True#game isnt finished\n",
    "        self.player_names = []\n",
    "        self.is_reversed = False\n",
    "        self.pickup_active = False#turns to true if a pick up is active \n",
    "        self.pickup_num = 0#the number of rounds an active pick up has been active \n",
    "        for i in range(num_players):\n",
    "            player_name = input(f\"Enter the name of player {i+1}: \")\n",
    "            self.player_names.append(player_name)\n",
    "        self.players = {}\n",
    "        \n",
    "        self.deck = UnoDeck(self)##initialize an uno game passing itself as a variable\n",
    "        self.current_player = 0#a number# if 3 players (0,1,2) are potential options\n",
    "        ##to access current player do self.deck.hands[self.player_names[self.current_player]]\n",
    "        ##returns the list of the current players current hands\n",
    "        \n",
    "        ##instantiate the variables of players\n",
    "        for i in range(num_players):\n",
    "            self.players[self.player_names[i]] = Player(self.player_names[i],self)\n",
    "    \n",
    "    def deal(self,num_cards = 7):\n",
    "        for i in range(num_cards):\n",
    "            for name in self.player_names:\n",
    "                self.deck.pick_up(\"in pile\", name)\n",
    "                \n",
    "        ##here we initialize the first card\n",
    "        i = 1\n",
    "        self.top = self.deck.hands['in pile'][-i]#a card objet of the first card\n",
    "        while self.deck.hands['in pile'][-i].is_wild:\n",
    "            \n",
    "            self.top = self.deck.hands['in pile'][-i]\n",
    "            i+=1#this needs to update each time \n",
    "        self.top = self.deck.hands['in pile'][-i]\n",
    "        self.deck.move_card('in pile', 'played', self.deck.hands['in pile'][-i])\n",
    "        #need to change the top so it reflects properly the deck\n",
    "    \n",
    "    ##Igues we can assume always that there is the option to pick up\n",
    "    def play_round(self,player_name):\n",
    "        player_temp = self.players[player_name]\n",
    "        potential_moves = []\n",
    "        if self.pickup_active == True:\n",
    "            if self.top.number == \"draw 2\":\n",
    "                potential_moves = player_temp.have_plus_2()\n",
    "            elif self.top.number == 'wild draw 4':\n",
    "                potential_moves = player_temp.have_plus_4()\n",
    "                \n",
    "        #I think we can all assume these are the only options\n",
    "        else:\n",
    "            potential_moves = player_temp.current_moves(self.top)\n",
    "        return potential_moves\n",
    "        \n",
    "\n",
    "    ##change color of wild card when played and pick up is False\n",
    "    \n",
    "    def play_uno(self):\n",
    "        ##use % to rotate player number if no reverse if reversed\n",
    "        game_in_play = True\n",
    "        #while game_in_play:\n",
    "        \n",
    "        ##OPTION 0 WILL ALWAYS BE PICK UP ONE CARD\n",
    "        ##OPTIONS FROM THERE WILL BE \n",
    "        while True: #for testing purposes\n",
    "            #current player  name\n",
    "            skip_round = False\n",
    "            curre_player_name = self.player_names[self.current_player]\n",
    "            \n",
    "            ##we now have the potential moves stored\n",
    "            print(\"the current player is:\"+str(self.player_names[self.current_player]))\n",
    "            print(\"the top card is: \" + self.top.color + \" \"+ str(self.top.number))\n",
    "            \n",
    "            print(\"the current cards are in the hand are: \")\n",
    "            card_print(self.deck.hands[self.player_names[self.current_player]])\n",
    "            \n",
    "            #print(\"The potential moves are: \")\n",
    "            #card_print(pot_moves)\n",
    "            \n",
    "            ###############\n",
    "            \n",
    "            #APPEND THE OTHER OPTIONS SAY MAYBE PICK UP\n",
    "            if self.pickup_active:\n",
    "                if self.top.number ==\"wild draw 4\":\n",
    "                    pot_moves = self.players[curre_player_name].have_plus_4()#should return the player object of current player\n",
    "                    if len(pot_moves) == 0:\n",
    "                           pot_moves.append(\"wild draw 4\")\n",
    "                elif self.top.number ==\"draw 2\":\n",
    "                    pot_moves = self.players[curre_player_name].have_plus_2()\n",
    "                    if len(pot_moves) == 0:\n",
    "                        pot_moves.append(\"draw 2\")\n",
    "            else:\n",
    "                ##aplways append the options otherwise to draw one card\n",
    "                pot_moves = self.play_round(curre_player_name)\n",
    "                ##I THINK THE ISSUE IS IT CHECKS THE COLOR as well so it thinks you can put a red 4 on a red pllus 2\n",
    "                \n",
    "                pot_moves.append(\"draw 1\")\n",
    "            \n",
    "            \n",
    "            ##here we have to check of any of the moves are wild then there will be an option for each color\n",
    "            for i in range(len(pot_moves)):\n",
    "                if type(pot_moves[i]) != str:#make sure it is not an str pick up\n",
    "                    if pot_moves[i].color == 'wild draw 4' or pot_moves[i].color== 'wild':\n",
    "                        #the reason we check color is because this will determine if it is manually added via the insert/\n",
    "                        #append below, and we only want original cards that are not extras added\n",
    "                        ## we must remove this\n",
    "                        card_add = pot_moves[i]\n",
    "                        \n",
    "                            ##append 4 cardsd of the different color\n",
    "                        pot_moves.insert(0, UnoCard(color ='red', number = pot_moves[i].number,is_wild = True))\n",
    "                        pot_moves.insert(0, UnoCard(color ='green', number = pot_moves[i+1].number,is_wild = True))\n",
    "                        pot_moves.insert(0, UnoCard(color ='blue', number = pot_moves[i+2].number,is_wild = True))\n",
    "                        pot_moves.insert(0, UnoCard(color ='yellow', number = pot_moves[i+3].number,is_wild = True))\n",
    "                        if pot_moves[i+4].color== 'wild':\n",
    "                            colorless_wild=pot_moves[i+4]#this is to store for later when we remove the card from hand to deck\n",
    "                        elif pot_moves[i+4].color == 'wild draw 4':\n",
    "                            colorless_wild_draw_4 = pot_moves[i+4]\n",
    "                        pot_moves.remove(pot_moves[i+4])#4 extra options have been added\n",
    "            #add to player\n",
    "            print(\"the final potential moves are: \")\n",
    "            card_print(pot_moves)\n",
    "            \n",
    "            \n",
    "            #############################################################################################\n",
    "            move_cur_player_makes = 0\n",
    "            #HERE IS WHERE THE SELECTION OF POTENTIAL MOVES HAPPENS\n",
    "    \n",
    "            #############################################################################################\n",
    "            skip_round = False#assume it isnt a skip of next player first then check later\n",
    "            ##the move cur player makes will update based on an ai or an algorithm or user input\n",
    "            if type(pot_moves[move_cur_player_makes]) == str:##WILL BE A PICK UP MOVE\n",
    "                \n",
    "                #first check if the pick up number is 1, this is required as otherwise pickup num will be 0\n",
    "                #as no previous pick up card is played it will be 0 but needs to be 1 for the pickup num to multiply correctly\n",
    "                if int(pot_moves[move_cur_player_makes][-1]) ==1:\n",
    "                    self.pickup_num =1\n",
    "                for i in range(self.pickup_num*int(pot_moves[move_cur_player_makes][-1])):#the last value of the string \n",
    "                #is the pickup number\n",
    "                #pick up 1 card each time\n",
    "                \n",
    "                #pick ups are only way to make pickup inactive\n",
    "                    self.deck.pick_up('in pile', curre_player_name)\n",
    "                #pickups are the only way to make inactive and always will make it inactive for next round.\n",
    "                self.pickup_active = False\n",
    "                self.pickup_num = 0\n",
    "            else:\n",
    "                #we are now going through the options that will play the card\n",
    "                card_played = pot_moves[move_cur_player_makes]\n",
    "                \n",
    "                #update the top card\n",
    "                self.top = card_played#do this before the top card is updated back to be colorless for the card transfer\n",
    "                if card_played.number == \"draw 2\":\n",
    "                    self.pickup_active = True\n",
    "                    self.pickup_num +=1\n",
    "                if card_played.number == \"wild draw 4\":\n",
    "                    self.pickup_active = True\n",
    "                    self.pickup_num +=1\n",
    "                    card_played = colorless_wild_draw_4#this updates the colorless wild so it can be moved within the hands\n",
    "                    #as the hands do not have the color as 4 options would be required\n",
    "                if card_played.number == \"reverse\":\n",
    "                    self.is_reversed = not self.is_reversed\n",
    "                if card_played.number == 'skip':\n",
    "                    skip_round = True\n",
    "                if card_played.number ==\"wild\":\n",
    "                    card_played = colorless_wild\n",
    "                    \n",
    "                \n",
    "                self.deck.move_card(curre_player_name,'played',card_played)\n",
    "            ##check if the game is won\n",
    "            \n",
    "                \n",
    "                \n",
    "                \n",
    "            ##now we need the logic to update the player number\n",
    "            if skip_round:\n",
    "                if self.is_reversed:\n",
    "                    self.current_player = (self.current_player-1)%self.num_players##two iterations of reverse update\n",
    "                    self.current_player = (self.current_player-1)%self.num_players\n",
    "                else:\n",
    "                    self.current_player = (self.current_player+1)%self.num_players\n",
    "                    self.current_player = (self.current_player+1)%self.num_players\n",
    "                    \n",
    "            else:\n",
    "                if self.is_reversed:\n",
    "                    self.current_player = (self.current_player-1)%self.num_players#logic if reversed\n",
    "                \n",
    "                else:  \n",
    "                    self.current_player = (self.current_player+1)%self.num_players#logic if not reversed and not plus 2\n",
    "                    \n",
    "            #check if current player has won based on the curre player name\n",
    "            if len(self.deck.hands[curre_player_name])==0:\n",
    "                #player jas won\n",
    "                game_in_play = False\n",
    "                print(\"game finished\")\n",
    "                print(\"player \" + str(curre_player_name)+\"has won! YAAYYYY UR SO GOOD\")\n",
    "                break \n",
    "\n",
    "            #Game logic seems to work fine,\n",
    "            #only issue is how to implement the wild card color change\n",
    "            #most likely add number to include wild card then like the 4 different colors will be added as options\n",
    "            #that would mean only use number to access wild card or plus 4 wild\n",
    "            #it should append as top to be red wild 4 \n",
    "\n",
    "        \n",
    "        \n",
    "    \n",
    "    \n",
    "                    \n",
    "                    \n",
    "            \n",
    "    \n",
    "        \n",
    "        \n",
    "        \n",
    "        "
   ]
  },
  {
   "cell_type": "code",
   "execution_count": 14,
   "id": "2e4d8258",
   "metadata": {},
   "outputs": [
    {
     "name": "stdout",
     "output_type": "stream",
     "text": [
      "Enter the name of player 1: Rory\n",
      "Enter the name of player 2: Isaac\n"
     ]
    }
   ],
   "source": [
    "#dict_test = {\"rory\": [1,2,3],\"isaac\":[1,2,3,4]}\n",
    "Game1 = UnoGame(2)"
   ]
  },
  {
   "cell_type": "code",
   "execution_count": 15,
   "id": "dcc39fbd",
   "metadata": {},
   "outputs": [],
   "source": [
    "##move card test \n",
    "#a = Game1.deck.hands['in pile'][0]\n",
    "#Game1.deck.move_card('in pile','Rory', a)"
   ]
  },
  {
   "cell_type": "code",
   "execution_count": 16,
   "id": "fb89a092",
   "metadata": {},
   "outputs": [
    {
     "data": {
      "text/plain": [
       "{'in pile': [<__main__.UnoCard at 0x1dfe040e890>,\n",
       "  <__main__.UnoCard at 0x1dfe02cd360>,\n",
       "  <__main__.UnoCard at 0x1dfe0373370>,\n",
       "  <__main__.UnoCard at 0x1dfe02e1cf0>,\n",
       "  <__main__.UnoCard at 0x1dfe0370ee0>,\n",
       "  <__main__.UnoCard at 0x1dfe040e860>,\n",
       "  <__main__.UnoCard at 0x1dfe035ad70>,\n",
       "  <__main__.UnoCard at 0x1dfe040f250>,\n",
       "  <__main__.UnoCard at 0x1dfe040f940>,\n",
       "  <__main__.UnoCard at 0x1dfe040eb60>,\n",
       "  <__main__.UnoCard at 0x1dfe040f6d0>,\n",
       "  <__main__.UnoCard at 0x1dfe0370430>,\n",
       "  <__main__.UnoCard at 0x1dfe040f8b0>,\n",
       "  <__main__.UnoCard at 0x1dfe03ca7d0>,\n",
       "  <__main__.UnoCard at 0x1dfe040ea10>,\n",
       "  <__main__.UnoCard at 0x1dfe02b9090>,\n",
       "  <__main__.UnoCard at 0x1dfe040fbe0>,\n",
       "  <__main__.UnoCard at 0x1dfe0343610>,\n",
       "  <__main__.UnoCard at 0x1dfe040f340>,\n",
       "  <__main__.UnoCard at 0x1dfe0373340>,\n",
       "  <__main__.UnoCard at 0x1dfe040fd30>,\n",
       "  <__main__.UnoCard at 0x1dfe02e1ab0>,\n",
       "  <__main__.UnoCard at 0x1dfe03b2380>,\n",
       "  <__main__.UnoCard at 0x1dfe040e800>,\n",
       "  <__main__.UnoCard at 0x1dfe040f400>,\n",
       "  <__main__.UnoCard at 0x1dfe02b9990>,\n",
       "  <__main__.UnoCard at 0x1dfe040f1c0>,\n",
       "  <__main__.UnoCard at 0x1dfe040fd00>,\n",
       "  <__main__.UnoCard at 0x1dfe040fb80>,\n",
       "  <__main__.UnoCard at 0x1dfe0359db0>,\n",
       "  <__main__.UnoCard at 0x1dfe040ffa0>,\n",
       "  <__main__.UnoCard at 0x1dfe040f760>,\n",
       "  <__main__.UnoCard at 0x1dfe040f490>,\n",
       "  <__main__.UnoCard at 0x1dfe040eaa0>,\n",
       "  <__main__.UnoCard at 0x1dfe040f280>,\n",
       "  <__main__.UnoCard at 0x1dfe040f670>,\n",
       "  <__main__.UnoCard at 0x1dfe02b8a30>,\n",
       "  <__main__.UnoCard at 0x1dfe040e920>,\n",
       "  <__main__.UnoCard at 0x1dfe02cd5a0>,\n",
       "  <__main__.UnoCard at 0x1dfe040fac0>,\n",
       "  <__main__.UnoCard at 0x1dfe040e350>,\n",
       "  <__main__.UnoCard at 0x1dfe0386ad0>,\n",
       "  <__main__.UnoCard at 0x1dfe02cddb0>,\n",
       "  <__main__.UnoCard at 0x1dfe0373e50>,\n",
       "  <__main__.UnoCard at 0x1dfe040e470>,\n",
       "  <__main__.UnoCard at 0x1dfe040f310>,\n",
       "  <__main__.UnoCard at 0x1dfe040f640>,\n",
       "  <__main__.UnoCard at 0x1dfe0372920>,\n",
       "  <__main__.UnoCard at 0x1dfe040eb00>,\n",
       "  <__main__.UnoCard at 0x1dfe040e710>,\n",
       "  <__main__.UnoCard at 0x1dfe040fca0>,\n",
       "  <__main__.UnoCard at 0x1dfe040e3b0>,\n",
       "  <__main__.UnoCard at 0x1dfe040f820>,\n",
       "  <__main__.UnoCard at 0x1dfe02e3f40>,\n",
       "  <__main__.UnoCard at 0x1dfe0372b30>,\n",
       "  <__main__.UnoCard at 0x1dfe040e740>,\n",
       "  <__main__.UnoCard at 0x1dfe02cd720>,\n",
       "  <__main__.UnoCard at 0x1dfe0371c00>,\n",
       "  <__main__.UnoCard at 0x1dfe040ebc0>,\n",
       "  <__main__.UnoCard at 0x1dfe02e2bc0>,\n",
       "  <__main__.UnoCard at 0x1dfe040f880>,\n",
       "  <__main__.UnoCard at 0x1dfe0384c70>,\n",
       "  <__main__.UnoCard at 0x1dfe040f550>,\n",
       "  <__main__.UnoCard at 0x1dfe040f700>,\n",
       "  <__main__.UnoCard at 0x1dfe02e3070>,\n",
       "  <__main__.UnoCard at 0x1dfe040f9a0>,\n",
       "  <__main__.UnoCard at 0x1dfe02e3940>,\n",
       "  <__main__.UnoCard at 0x1dfe032fbe0>,\n",
       "  <__main__.UnoCard at 0x1dfe040e200>,\n",
       "  <__main__.UnoCard at 0x1dfe040e6e0>,\n",
       "  <__main__.UnoCard at 0x1dfe040e620>,\n",
       "  <__main__.UnoCard at 0x1dfe040ed10>,\n",
       "  <__main__.UnoCard at 0x1dfe040f580>,\n",
       "  <__main__.UnoCard at 0x1dfe0371f60>,\n",
       "  <__main__.UnoCard at 0x1dfe02e31f0>,\n",
       "  <__main__.UnoCard at 0x1dfe040ec80>,\n",
       "  <__main__.UnoCard at 0x1dfe03738b0>,\n",
       "  <__main__.UnoCard at 0x1dfe040e9e0>,\n",
       "  <__main__.UnoCard at 0x1dfe040e140>,\n",
       "  <__main__.UnoCard at 0x1dfe02e3580>,\n",
       "  <__main__.UnoCard at 0x1dfe0371270>,\n",
       "  <__main__.UnoCard at 0x1dfe0370c10>,\n",
       "  <__main__.UnoCard at 0x1dfe040fa90>,\n",
       "  <__main__.UnoCard at 0x1dfe040e650>,\n",
       "  <__main__.UnoCard at 0x1dfe040f3a0>,\n",
       "  <__main__.UnoCard at 0x1dfe02ba1d0>,\n",
       "  <__main__.UnoCard at 0x1dfe040f9d0>,\n",
       "  <__main__.UnoCard at 0x1dfe040e1a0>,\n",
       "  <__main__.UnoCard at 0x1dfe040e950>,\n",
       "  <__main__.UnoCard at 0x1dfe040f4c0>,\n",
       "  <__main__.UnoCard at 0x1dfe040e7a0>,\n",
       "  <__main__.UnoCard at 0x1dfe040e2c0>,\n",
       "  <__main__.UnoCard at 0x1dfe0372170>,\n",
       "  <__main__.UnoCard at 0x1dfe02e1bd0>,\n",
       "  <__main__.UnoCard at 0x1dfe0358520>,\n",
       "  <__main__.UnoCard at 0x1dfe040ec50>,\n",
       "  <__main__.UnoCard at 0x1dfe03739d0>,\n",
       "  <__main__.UnoCard at 0x1dfe02cd000>,\n",
       "  <__main__.UnoCard at 0x1dfe040f7c0>,\n",
       "  <__main__.UnoCard at 0x1dfe0359270>,\n",
       "  <__main__.UnoCard at 0x1dfe040e530>,\n",
       "  <__main__.UnoCard at 0x1dfe040fbb0>,\n",
       "  <__main__.UnoCard at 0x1dfe040fa00>],\n",
       " 'played': [<__main__.UnoCard at 0x1dfe02bb880>],\n",
       " 'Rory': [<__main__.UnoCard at 0x1dfe040e290>,\n",
       "  <__main__.UnoCard at 0x1dfe040e4a0>],\n",
       " 'Isaac': [<__main__.UnoCard at 0x1dfe040e5c0>,\n",
       "  <__main__.UnoCard at 0x1dfe040e3e0>]}"
      ]
     },
     "execution_count": 16,
     "metadata": {},
     "output_type": "execute_result"
    }
   ],
   "source": [
    "#SHOW Deck test\n",
    "Game1.deal(num_cards = 2)\n",
    "Game1.deck.hands"
   ]
  },
  {
   "cell_type": "code",
   "execution_count": 17,
   "id": "ec67cd27",
   "metadata": {},
   "outputs": [
    {
     "name": "stdout",
     "output_type": "stream",
     "text": [
      "move 0: yellow reverse\n",
      "move 1: wild wild\n"
     ]
    }
   ],
   "source": [
    "#How to access current moves for current player rory \n",
    "res = Game1.players[\"Rory\"].current_moves(Game1.top)\n",
    "card_print(res)"
   ]
  },
  {
   "cell_type": "code",
   "execution_count": 18,
   "id": "443ffccf",
   "metadata": {},
   "outputs": [
    {
     "name": "stdout",
     "output_type": "stream",
     "text": [
      "the top card is: yellow 1\n"
     ]
    },
    {
     "data": {
      "text/plain": [
       "[<__main__.UnoCard at 0x1dfe040e290>, <__main__.UnoCard at 0x1dfe040e4a0>]"
      ]
     },
     "execution_count": 18,
     "metadata": {},
     "output_type": "execute_result"
    }
   ],
   "source": [
    "print(\"the top card is: \" + Game1.top.color + \" \"+ str(Game1.top.number))\n",
    "Game1.play_round(Game1.player_names[Game1.current_player])"
   ]
  },
  {
   "cell_type": "code",
   "execution_count": 19,
   "id": "7f797e0f",
   "metadata": {},
   "outputs": [
    {
     "name": "stdout",
     "output_type": "stream",
     "text": [
      "move 0: yellow reverse\n",
      "move 1: wild wild\n"
     ]
    }
   ],
   "source": [
    "card_print(Game1.play_round(Game1.player_names[Game1.current_player]))##returns the cards a player can play"
   ]
  },
  {
   "cell_type": "code",
   "execution_count": 20,
   "id": "a890697f",
   "metadata": {},
   "outputs": [
    {
     "name": "stdout",
     "output_type": "stream",
     "text": [
      "the current player is:Rory\n",
      "the top card is: yellow 1\n",
      "the current cards are in the hand are: \n",
      "move 0: yellow reverse\n",
      "move 1: wild wild\n",
      "the final potential moves are: \n",
      "move 0: yellow wild\n",
      "move 1: blue wild\n",
      "move 2: green wild\n",
      "move 3: red wild\n",
      "move 4: yellow reverse\n",
      "move 5: draw 1\n",
      "the current player is:Isaac\n",
      "the top card is: yellow wild\n",
      "the current cards are in the hand are: \n",
      "move 0: yellow 6\n",
      "move 1: wild wild\n",
      "the final potential moves are: \n",
      "move 0: yellow wild\n",
      "move 1: blue wild\n",
      "move 2: green wild\n",
      "move 3: red wild\n",
      "move 4: yellow 6\n",
      "move 5: draw 1\n",
      "the current player is:Rory\n",
      "the top card is: yellow wild\n",
      "the current cards are in the hand are: \n",
      "move 0: yellow reverse\n",
      "the final potential moves are: \n",
      "move 0: yellow reverse\n",
      "move 1: draw 1\n",
      "game finished\n",
      "player Roryhas won! YAAYYYY UR SO GOOD\n"
     ]
    }
   ],
   "source": [
    "Game1.play_uno()"
   ]
  },
  {
   "cell_type": "code",
   "execution_count": 21,
   "id": "37aa086e",
   "metadata": {},
   "outputs": [
    {
     "data": {
      "text/plain": [
       "'yellow'"
      ]
     },
     "execution_count": 21,
     "metadata": {},
     "output_type": "execute_result"
    }
   ],
   "source": [
    "Game1.deck.hands['played'][0].color"
   ]
  },
  {
   "cell_type": "code",
   "execution_count": 22,
   "id": "bb2c281e",
   "metadata": {},
   "outputs": [
    {
     "data": {
      "text/plain": [
       "'yellow'"
      ]
     },
     "execution_count": 22,
     "metadata": {},
     "output_type": "execute_result"
    }
   ],
   "source": [
    "Game1.top.color\n",
    "##probs easier to store the current player as a number then do player_names and assign at the startof the play round"
   ]
  },
  {
   "cell_type": "code",
   "execution_count": 23,
   "id": "14a68cab",
   "metadata": {},
   "outputs": [
    {
     "ename": "SyntaxError",
     "evalue": "closing parenthesis ']' does not match opening parenthesis '(' (1011503661.py, line 3)",
     "output_type": "error",
     "traceback": [
      "\u001b[1;36m  Cell \u001b[1;32mIn[23], line 3\u001b[1;36m\u001b[0m\n\u001b[1;33m    players = shuffle([]\"bot\", \"random_player\"])\u001b[0m\n\u001b[1;37m                                              ^\u001b[0m\n\u001b[1;31mSyntaxError\u001b[0m\u001b[1;31m:\u001b[0m closing parenthesis ']' does not match opening parenthesis '('\n"
     ]
    }
   ],
   "source": [
    "#\n",
    "def agent_trainer():\n",
    "    players = shuffle([]\"bot\", \"random_player\"])\n",
    "    game = unoGame(players)\n",
    "    while gamme. currplayer != 'bot':\n",
    "        play_rand_rnd()\n",
    "    state = the pot moves in ccode.\n",
    "    while game_in_play:\n",
    "        rand_num = sample 0 to 1\n",
    "        if rand_num <e:\n",
    "            play_rand_rnd()\n",
    "            action = action_played\n",
    "        else:\n",
    "            play maq q from q state\n",
    "            action = action_played\n",
    "        N(state, action) = 1\n",
    "        seen_action_pairs.append((state, action))\n",
    "        if game_won:\n",
    "            game_in_play= False\n",
    "            next_state = a state with reward\n",
    "        else:\n",
    "            \n",
    "            while cur player is not bot:\n",
    "                play random rnd\n",
    "                if game finished:\n",
    "                    game is lost and break from loop\n",
    "            next_state = pot moves in code#incase game is won\n",
    "        reward = rewards[next_state, action]## should be 000000 one if game finished\n",
    "        \n",
    "        ##maybe make it so game doesnt finish until all players play a round\n",
    "        max_next_q = max from q table from next state\n",
    "        delta = reward + y*max_next_q-Q(state, action)\n",
    "        for state, action in seen action_pairs\n",
    "            Q(state,action) = Q(state,action)+alpha*delta*N(state, action)\n",
    "            N(state, action) = y*lambd*N(state, action)\n",
    "        ##the game should be automatically at the state\n",
    "        ##this loop is essentially using only a play round feature\n",
    "        ##we do not need to have the whole loop of code for the whole game\n",
    "        ##at thi spoint it will be back to the players turn\n",
    "        ##I guess it does work even if the game ends\n",
    "        \n",
    "        "
   ]
  },
  {
   "cell_type": "code",
   "execution_count": 24,
   "id": "30387e3e",
   "metadata": {},
   "outputs": [],
   "source": [
    "current_num = 0\n",
    "players = 4"
   ]
  },
  {
   "cell_type": "code",
   "execution_count": 25,
   "id": "8777fba4",
   "metadata": {},
   "outputs": [
    {
     "data": {
      "text/plain": [
       "3"
      ]
     },
     "execution_count": 25,
     "metadata": {},
     "output_type": "execute_result"
    }
   ],
   "source": [
    "current_num = (current_num-1)%players\n",
    "current_num"
   ]
  },
  {
   "cell_type": "code",
   "execution_count": 26,
   "id": "31a5bbb1",
   "metadata": {},
   "outputs": [
    {
     "data": {
      "text/plain": [
       "0"
      ]
     },
     "execution_count": 26,
     "metadata": {},
     "output_type": "execute_result"
    }
   ],
   "source": [
    "current_player = 0\n",
    "current_player = (current_player+1)%2\n",
    "current_player = (current_player+1)%2\n",
    "current_player"
   ]
  },
  {
   "cell_type": "code",
   "execution_count": 27,
   "id": "c04149bf",
   "metadata": {},
   "outputs": [
    {
     "name": "stdout",
     "output_type": "stream",
     "text": [
      "do this\n"
     ]
    }
   ],
   "source": [
    "if True:\n",
    "    print(\"do this\")\n",
    "elif False:\n",
    "    print(\"this wont happen\")\n",
    "elif True:\n",
    "    print(\"this wont happen either\")"
   ]
  },
  {
   "cell_type": "code",
   "execution_count": 28,
   "id": "25a93ef5",
   "metadata": {},
   "outputs": [],
   "source": [
    "lst = [1,2,3,4,5,6]"
   ]
  },
  {
   "cell_type": "code",
   "execution_count": 29,
   "id": "38c8c260",
   "metadata": {},
   "outputs": [
    {
     "data": {
      "text/plain": [
       "3"
      ]
     },
     "execution_count": 29,
     "metadata": {},
     "output_type": "execute_result"
    }
   ],
   "source": [
    "lst.insert(0,3)\n",
    "lst.insert(0,3)\n",
    "lst.insert(0,3)\n",
    "lst.insert(0,3)\n",
    "lst[2+4]"
   ]
  },
  {
   "cell_type": "code",
   "execution_count": 135,
   "id": "9cdde098",
   "metadata": {},
   "outputs": [
    {
     "data": {
      "text/plain": [
       "[3, 3, 3, 3, 1, 2, 3, 4, 5, 6]"
      ]
     },
     "execution_count": 135,
     "metadata": {},
     "output_type": "execute_result"
    }
   ],
   "source": [
    "lst"
   ]
  },
  {
   "cell_type": "code",
   "execution_count": 1,
   "id": "1eb13e49",
   "metadata": {},
   "outputs": [
    {
     "data": {
      "text/plain": [
       "True"
      ]
     },
     "execution_count": 1,
     "metadata": {},
     "output_type": "execute_result"
    }
   ],
   "source": [
    "\"rodneyphillips212@hotmail.com\"== \"rodneyphillips212@hotmail.com\""
   ]
  },
  {
   "cell_type": "code",
   "execution_count": 106,
   "id": "debf8a2f",
   "metadata": {},
   "outputs": [
    {
     "data": {
      "text/plain": [
       "[1, 2, 3, 4, 6]"
      ]
     },
     "execution_count": 106,
     "metadata": {},
     "output_type": "execute_result"
    }
   ],
   "source": [
    "lst"
   ]
  },
  {
   "cell_type": "code",
   "execution_count": null,
   "id": "65323c2a",
   "metadata": {},
   "outputs": [],
   "source": []
  },
  {
   "cell_type": "code",
   "execution_count": null,
   "id": "e42b3465",
   "metadata": {},
   "outputs": [],
   "source": []
  }
 ],
 "metadata": {
  "kernelspec": {
   "display_name": "Python 3 (ipykernel)",
   "language": "python",
   "name": "python3"
  },
  "language_info": {
   "codemirror_mode": {
    "name": "ipython",
    "version": 3
   },
   "file_extension": ".py",
   "mimetype": "text/x-python",
   "name": "python",
   "nbconvert_exporter": "python",
   "pygments_lexer": "ipython3",
   "version": "3.10.11"
  }
 },
 "nbformat": 4,
 "nbformat_minor": 5
}
