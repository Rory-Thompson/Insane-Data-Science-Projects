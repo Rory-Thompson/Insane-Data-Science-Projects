{
 "cells": [
  {
   "cell_type": "code",
   "execution_count": 1,
   "id": "eca370e7",
   "metadata": {},
   "outputs": [
    {
     "name": "stdout",
     "output_type": "stream",
     "text": [
      "pygame 2.3.0 (SDL 2.24.2, Python 3.8.13)\n",
      "Hello from the pygame community. https://www.pygame.org/contribute.html\n"
     ]
    }
   ],
   "source": [
    "import pygame"
   ]
  },
  {
   "cell_type": "code",
   "execution_count": 4,
   "id": "7cd1ce9f",
   "metadata": {},
   "outputs": [],
   "source": [
    "WIDTH, HEIGHT = 900, 500\n",
    "WIN = pygame.display.set_mode((WIDTH, HEIGHT))#Set display mode\n",
    "pygame.display.set_caption(\"First Game\")\n",
    "FPS = 60\n",
    "white = (255,255,255)\n",
    "\n",
    "##using pygamein 90 minutes for begginers\n",
    "def draw_window():\n",
    "    WIN.fill(white)\n",
    "    pygame.display.update()\n",
    "    \n",
    "def main():\n",
    "    \n",
    "    clock = pygame.time.Clock()#clock\n",
    "    #a loop to play the loop\n",
    "    run = True\n",
    "    while run:\n",
    "        for event in pygame.event.get():\n",
    "            clock.tick(FPS)#Control the fps of the game\n",
    "            #check for different events\n",
    "            if event.type ==pygame.QUIT:#if window is quit\n",
    "                run = False\n",
    "        draw_window()\n",
    "    pygame.quit()\n",
    "\n",
    "if __name__ == \"__main__\":\n",
    "    main()"
   ]
  },
  {
   "cell_type": "code",
   "execution_count": 4,
   "id": "47e99b0c",
   "metadata": {},
   "outputs": [],
   "source": []
  },
  {
   "cell_type": "code",
   "execution_count": null,
   "id": "59d47e72",
   "metadata": {},
   "outputs": [],
   "source": []
  }
 ],
 "metadata": {
  "kernelspec": {
   "display_name": "Python 3 (ipykernel)",
   "language": "python",
   "name": "python3"
  },
  "language_info": {
   "codemirror_mode": {
    "name": "ipython",
    "version": 3
   },
   "file_extension": ".py",
   "mimetype": "text/x-python",
   "name": "python",
   "nbconvert_exporter": "python",
   "pygments_lexer": "ipython3",
   "version": "3.8.13"
  }
 },
 "nbformat": 4,
 "nbformat_minor": 5
}
