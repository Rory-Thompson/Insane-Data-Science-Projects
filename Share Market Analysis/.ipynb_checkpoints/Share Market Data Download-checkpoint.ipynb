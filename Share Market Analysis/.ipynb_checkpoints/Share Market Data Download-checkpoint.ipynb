{
 "cells": [
  {
   "cell_type": "code",
   "execution_count": 1,
   "id": "28adad2f",
   "metadata": {},
   "outputs": [],
   "source": [
    "import numpy as np\n",
    "import tensorflow as tf\n",
    "import keras\n",
    "import random\n",
    "\n",
    "import matplotlib.pyplot as plt\n",
    "import sklearn\n",
    "import pandas as pd\n",
    "\n",
    "import itertools\n",
    "\n",
    "#from Uno_game import *\n",
    "import pandas as pd"
   ]
  },
  {
   "cell_type": "code",
   "execution_count": 21,
   "id": "faa5ed81",
   "metadata": {},
   "outputs": [
    {
     "name": "stdout",
     "output_type": "stream",
     "text": [
      "An error occurred: 'str' object has no attribute 'read'\n"
     ]
    }
   ],
   "source": [
    "file_path = r'\\\\DiskStation\\Data\\Shares\\files\\history\\20240122_101200.json'\n",
    "\n",
    "try:\n",
    "    with open(file_path, 'r') as file:\n",
    "        data = file_path.read()\n",
    "        # Process the data as needed\n",
    "        print(data)\n",
    "except FileNotFoundError:\n",
    "    print(\"File not found or inaccessible.\")\n",
    "except Exception as e:\n",
    "    print(\"An error occurred:\", e)"
   ]
  },
  {
   "cell_type": "code",
   "execution_count": 30,
   "id": "0f5d74d7",
   "metadata": {},
   "outputs": [],
   "source": [
    "full_share_df = pd.read_json(r'\\\\DiskStation\\Data\\Shares\\files\\analytics\\full_history.json', encoding = 'utf-16')"
   ]
  },
  {
   "cell_type": "code",
   "execution_count": 94,
   "id": "e7de6138",
   "metadata": {},
   "outputs": [],
   "source": [
    "bhp_df = full_share_df[full_share_df['title'] == 'BHP Group Ltd']"
   ]
  },
  {
   "cell_type": "code",
   "execution_count": 95,
   "id": "f9f5ca18",
   "metadata": {},
   "outputs": [
    {
     "name": "stdout",
     "output_type": "stream",
     "text": [
      "2023-12-10 19:36:28\n"
     ]
    }
   ],
   "source": [
    "import re\n",
    "import datetime\n",
    "pattern = r\"\\((.*?)\\)\"\n",
    "pd.json_normalize(bhp_df['updated_at'][0]).loc[0,'value']\n",
    "time = int(re.findall(pattern, pd.json_normalize(bhp_df['updated_at'][0]).loc[0,'value'])[0])\n",
    "time = datetime.datetime.fromtimestamp(time/1000)\n",
    "print(time)"
   ]
  },
  {
   "cell_type": "code",
   "execution_count": 96,
   "id": "ef250f7a",
   "metadata": {},
   "outputs": [],
   "source": [
    "time = int(re.findall(pattern, pd.json_normalize(bhp_df['updated_at'][0]).loc[0,'value'])[0])"
   ]
  },
  {
   "cell_type": "code",
   "execution_count": 97,
   "id": "e11e6725",
   "metadata": {},
   "outputs": [
    {
     "data": {
      "text/html": [
       "<div>\n",
       "<style scoped>\n",
       "    .dataframe tbody tr th:only-of-type {\n",
       "        vertical-align: middle;\n",
       "    }\n",
       "\n",
       "    .dataframe tbody tr th {\n",
       "        vertical-align: top;\n",
       "    }\n",
       "\n",
       "    .dataframe thead th {\n",
       "        text-align: right;\n",
       "    }\n",
       "</style>\n",
       "<table border=\"1\" class=\"dataframe\">\n",
       "  <thead>\n",
       "    <tr style=\"text-align: right;\">\n",
       "      <th></th>\n",
       "      <th>value</th>\n",
       "      <th>DateTime</th>\n",
       "    </tr>\n",
       "  </thead>\n",
       "  <tbody>\n",
       "    <tr>\n",
       "      <th>0</th>\n",
       "      <td>/Date(1702197388000)/</td>\n",
       "      <td>Sunday, 10 December 2023 7:36:28 PM</td>\n",
       "    </tr>\n",
       "  </tbody>\n",
       "</table>\n",
       "</div>"
      ],
      "text/plain": [
       "                   value                             DateTime\n",
       "0  /Date(1702197388000)/  Sunday, 10 December 2023 7:36:28 PM"
      ]
     },
     "execution_count": 97,
     "metadata": {},
     "output_type": "execute_result"
    }
   ],
   "source": [
    "pd.json_normalize(bhp_df['updated_at'][0])"
   ]
  },
  {
   "cell_type": "code",
   "execution_count": 104,
   "id": "9f9d5b7c",
   "metadata": {},
   "outputs": [
    {
     "name": "stderr",
     "output_type": "stream",
     "text": [
      "C:\\Users\\rory\\AppData\\Local\\Temp\\ipykernel_3936\\2365689959.py:1: SettingWithCopyWarning: \n",
      "A value is trying to be set on a copy of a slice from a DataFrame.\n",
      "Try using .loc[row_indexer,col_indexer] = value instead\n",
      "\n",
      "See the caveats in the documentation: https://pandas.pydata.org/pandas-docs/stable/user_guide/indexing.html#returning-a-view-versus-a-copy\n",
      "  bhp_df.loc[:,'time_stamp'] = [int(re.findall(pattern, pd.json_normalize(bhp_df.iloc[i, 11]).loc[0,'value'])[0]) for i in range(len(bhp_df))]\n",
      "C:\\Users\\rory\\AppData\\Local\\Temp\\ipykernel_3936\\2365689959.py:2: SettingWithCopyWarning: \n",
      "A value is trying to be set on a copy of a slice from a DataFrame.\n",
      "Try using .loc[row_indexer,col_indexer] = value instead\n",
      "\n",
      "See the caveats in the documentation: https://pandas.pydata.org/pandas-docs/stable/user_guide/indexing.html#returning-a-view-versus-a-copy\n",
      "  bhp_df['date_time'] = pd.to_datetime(bhp_df.loc[:,'time_stamp']/1000, unit='s')\n"
     ]
    }
   ],
   "source": [
    "bhp_df.loc[:,'time_stamp'] = [int(re.findall(pattern, pd.json_normalize(bhp_df.iloc[i, 11]).loc[0,'value'])[0]) for i in range(len(bhp_df))]\n",
    "bhp_df['date_time'] = pd.to_datetime(bhp_df.loc[:,'time_stamp']/1000, unit='s')"
   ]
  },
  {
   "cell_type": "code",
   "execution_count": 113,
   "id": "10025dce",
   "metadata": {},
   "outputs": [
    {
     "data": {
      "text/plain": [
       "[<matplotlib.lines.Line2D at 0x168878c2cb0>]"
      ]
     },
     "execution_count": 113,
     "metadata": {},
     "output_type": "execute_result"
    },
    {
     "data": {
      "image/png": "[encoded data removed]",
      "text/plain": [
       "<Figure size 640x480 with 1 Axes>"
      ]
     },
     "metadata": {},
     "output_type": "display_data"
    }
   ],
   "source": [
    "plt.plot(bhp_df.date_time,bhp_df['last'])"
   ]
  },
  {
   "cell_type": "code",
   "execution_count": 109,
   "id": "c6541109",
   "metadata": {},
   "outputs": [
    {
     "data": {
      "text/plain": [
       "0        2023-12-10 08:36:28\n",
       "2406     2023-12-11 05:02:12\n",
       "4814     2023-12-12 02:07:10\n",
       "7220     2023-12-12 03:23:11\n",
       "9626     2023-12-12 03:57:11\n",
       "                 ...        \n",
       "361863   2024-02-22 02:25:33\n",
       "364263   2024-02-22 03:58:11\n",
       "366663   2024-02-22 05:22:46\n",
       "369063   2024-02-22 23:59:11\n",
       "371463   2024-02-23 08:31:36\n",
       "Name: date_time, Length: 156, dtype: datetime64[ns]"
      ]
     },
     "execution_count": 109,
     "metadata": {},
     "output_type": "execute_result"
    }
   ],
   "source": [
    "bhp_df.date_time"
   ]
  },
  {
   "cell_type": "code",
   "execution_count": 111,
   "id": "95abfb22",
   "metadata": {},
   "outputs": [
    {
     "data": {
      "text/plain": [
       "0         47.740\n",
       "2406      47.480\n",
       "4814      47.595\n",
       "7220      47.540\n",
       "9626      47.600\n",
       "           ...  \n",
       "361863    44.395\n",
       "364263    44.420\n",
       "366663    44.270\n",
       "369063    44.470\n",
       "371463    44.550\n",
       "Name: last, Length: 156, dtype: float64"
      ]
     },
     "execution_count": 111,
     "metadata": {},
     "output_type": "execute_result"
    }
   ],
   "source": [
    "bhp_df['last']"
   ]
  },
  {
   "cell_type": "code",
   "execution_count": null,
   "id": "395fde90",
   "metadata": {},
   "outputs": [],
   "source": []
  }
 ],
 "metadata": {
  "kernelspec": {
   "display_name": "Python 3 (ipykernel)",
   "language": "python",
   "name": "python3"
  },
  "language_info": {
   "codemirror_mode": {
    "name": "ipython",
    "version": 3
   },
   "file_extension": ".py",
   "mimetype": "text/x-python",
   "name": "python",
   "nbconvert_exporter": "python",
   "pygments_lexer": "ipython3",
   "version": "3.10.11"
  }
 },
 "nbformat": 4,
 "nbformat_minor": 5
}
